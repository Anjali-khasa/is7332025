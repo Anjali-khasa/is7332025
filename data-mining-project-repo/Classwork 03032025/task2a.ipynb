{
 "cells": [
  {
   "cell_type": "markdown",
   "metadata": {},
   "source": [
    "# Task 2 Understanding ROC and AUC "
   ]
  },
  {
   "cell_type": "markdown",
   "metadata": {},
   "source": [
    "## 2a: Create a ROC (with AI assistant/Excel ) \n",
    "(Refer to roc_data.csv)\n",
    "```\n",
    "Step1: Given the threshold (0.95,0.90,0.85,0.80,0.75,0.70), derive True Positive and False Positive \n",
    "Step2: Calculate the True Positive Rate (TPR) and False Positive Rate (FPR), enter the values into the sheet \n",
    "Step3: plot the set points (FRP, TPR) on the ROC diagram \n",
    "```\n"
   ]
  },
  {
   "cell_type": "code",
   "execution_count": 1,
   "metadata": {},
   "outputs": [],
   "source": [
    "# import packages\n",
    "import pandas as pd\n",
    "import numpy as np\n",
    "import matplotlib.pyplot as plt\n",
    "from sklearn.metrics import roc_curve, auc"
   ]
  },
  {
   "cell_type": "code",
   "execution_count": 2,
   "metadata": {},
   "outputs": [
    {
     "data": {
      "text/plain": [
       "(150, 6)"
      ]
     },
     "execution_count": 2,
     "metadata": {},
     "output_type": "execute_result"
    }
   ],
   "source": [
    "# Load the dataset\n",
    "roc_data_path = \"roc_data.csv\"\n",
    "roc_df = pd.read_csv(roc_data_path)\n",
    "roc_df.shape"
   ]
  },
  {
   "cell_type": "code",
   "execution_count": 3,
   "metadata": {},
   "outputs": [
    {
     "data": {
      "text/html": [
       "<div>\n",
       "<style scoped>\n",
       "    .dataframe tbody tr th:only-of-type {\n",
       "        vertical-align: middle;\n",
       "    }\n",
       "\n",
       "    .dataframe tbody tr th {\n",
       "        vertical-align: top;\n",
       "    }\n",
       "\n",
       "    .dataframe thead th {\n",
       "        text-align: right;\n",
       "    }\n",
       "</style>\n",
       "<table border=\"1\" class=\"dataframe\">\n",
       "  <thead>\n",
       "    <tr style=\"text-align: right;\">\n",
       "      <th></th>\n",
       "      <th>ID</th>\n",
       "      <th>Prediction</th>\n",
       "      <th>True_Label</th>\n",
       "      <th>prediction_label</th>\n",
       "      <th>TP</th>\n",
       "      <th>FP</th>\n",
       "    </tr>\n",
       "  </thead>\n",
       "  <tbody>\n",
       "    <tr>\n",
       "      <th>0</th>\n",
       "      <td>1</td>\n",
       "      <td>0.998</td>\n",
       "      <td>1</td>\n",
       "      <td>1</td>\n",
       "      <td>1</td>\n",
       "      <td>0</td>\n",
       "    </tr>\n",
       "    <tr>\n",
       "      <th>1</th>\n",
       "      <td>2</td>\n",
       "      <td>0.998</td>\n",
       "      <td>1</td>\n",
       "      <td>1</td>\n",
       "      <td>1</td>\n",
       "      <td>0</td>\n",
       "    </tr>\n",
       "    <tr>\n",
       "      <th>2</th>\n",
       "      <td>3</td>\n",
       "      <td>0.998</td>\n",
       "      <td>1</td>\n",
       "      <td>1</td>\n",
       "      <td>1</td>\n",
       "      <td>0</td>\n",
       "    </tr>\n",
       "    <tr>\n",
       "      <th>3</th>\n",
       "      <td>4</td>\n",
       "      <td>0.997</td>\n",
       "      <td>1</td>\n",
       "      <td>1</td>\n",
       "      <td>1</td>\n",
       "      <td>0</td>\n",
       "    </tr>\n",
       "    <tr>\n",
       "      <th>4</th>\n",
       "      <td>5</td>\n",
       "      <td>0.997</td>\n",
       "      <td>1</td>\n",
       "      <td>1</td>\n",
       "      <td>1</td>\n",
       "      <td>0</td>\n",
       "    </tr>\n",
       "  </tbody>\n",
       "</table>\n",
       "</div>"
      ],
      "text/plain": [
       "   ID  Prediction  True_Label  prediction_label  TP  FP\n",
       "0   1       0.998           1                 1   1   0\n",
       "1   2       0.998           1                 1   1   0\n",
       "2   3       0.998           1                 1   1   0\n",
       "3   4       0.997           1                 1   1   0\n",
       "4   5       0.997           1                 1   1   0"
      ]
     },
     "execution_count": 3,
     "metadata": {},
     "output_type": "execute_result"
    }
   ],
   "source": [
    "roc_df.head()"
   ]
  },
  {
   "cell_type": "markdown",
   "metadata": {},
   "source": [
    "Step1: Given the threshold (0.95,0.90,0.85,0.80,0.75,0.70), derive True Positive and False Positive \n",
    "\n",
    "Step2: Calculate the True Positive Rate (TPR) and False Positive Rate (FPR), enter the values into the sheet "
   ]
  },
  {
   "cell_type": "code",
   "execution_count": 4,
   "metadata": {},
   "outputs": [
    {
     "name": "stdout",
     "output_type": "stream",
     "text": [
      "Threshold: 0.95 -> TP: 39, FP: 4, TN: 74, FN: 33, Total: 150\n",
      "Threshold: 0.9 -> TP: 46, FP: 5, TN: 73, FN: 26, Total: 150\n",
      "Threshold: 0.85 -> TP: 51, FP: 5, TN: 73, FN: 21, Total: 150\n",
      "Threshold: 0.8 -> TP: 54, FP: 5, TN: 73, FN: 18, Total: 150\n",
      "Threshold: 0.75 -> TP: 55, FP: 6, TN: 72, FN: 17, Total: 150\n",
      "Threshold: 0.7 -> TP: 58, FP: 6, TN: 72, FN: 14, Total: 150\n",
      "\n",
      "tpr_list: [np.float64(0.5416666666666666), np.float64(0.6388888888888888), np.float64(0.7083333333333334), np.float64(0.75), np.float64(0.7638888888888888), np.float64(0.8055555555555556)]\n",
      "\n",
      "fpr_list: [np.float64(0.05128205128205128), np.float64(0.0641025641025641), np.float64(0.0641025641025641), np.float64(0.0641025641025641), np.float64(0.07692307692307693), np.float64(0.07692307692307693)]\n"
     ]
    }
   ],
   "source": [
    "# Define thresholds given in the problem\n",
    "thresholds = [0.95, 0.90, 0.85, 0.80, 0.75, 0.70]\n",
    "\n",
    "# Compute TPR and FPR for each threshold\n",
    "tpr_list = []\n",
    "fpr_list = []\n",
    "\n",
    "results = []\n",
    "\n",
    "for threshold in thresholds:\n",
    "    # Apply thresholding\n",
    "    roc_df['predicted_label'] = (roc_df['Prediction'] >= threshold).astype(int)\n",
    "    \n",
    "    # Compute confusion matrix values\n",
    "    TP = ((roc_df['predicted_label'] == 1) & (roc_df['True_Label'] == 1)).sum()\n",
    "    FP = ((roc_df['predicted_label'] == 1) & (roc_df['True_Label'] == 0)).sum()\n",
    "    FN = ((roc_df['predicted_label'] == 0) & (roc_df['True_Label'] == 1)).sum()\n",
    "    TN = ((roc_df['predicted_label'] == 0) & (roc_df['True_Label'] == 0)).sum()\n",
    "    \n",
    "    # Compute TPR and FPR\n",
    "    TPR = TP / (TP + FN) if (TP + FN) > 0 else 0\n",
    "    FPR = FP / (FP + TN) if (FP + TN) > 0 else 0\n",
    "\n",
    "    total_count = TP + FP + TN + FN\n",
    "    print(f\"Threshold: {threshold} -> TP: {TP}, FP: {FP}, TN: {TN}, FN: {FN}, Total: {total_count}\")\n",
    "\n",
    "    results.append([threshold, TP, FP, TN, FN, TPR, FPR])\n",
    "    \n",
    "    tpr_list.append(TPR)\n",
    "    fpr_list.append(FPR)\n",
    "\n",
    "\n",
    "print(f\"\\ntpr_list: {tpr_list}\\n\")\n",
    "print(f\"fpr_list: {fpr_list}\")"
   ]
  },
  {
   "cell_type": "markdown",
   "metadata": {},
   "source": [
    "Step3: plot the set points (FRP, TPR) on the ROC diagram "
   ]
  },
  {
   "cell_type": "code",
   "execution_count": 5,
   "metadata": {},
   "outputs": [
    {
     "data": {
      "image/png": "[encoded data removed]",
      "text/plain": [
       "<Figure size 600x600 with 1 Axes>"
      ]
     },
     "metadata": {},
     "output_type": "display_data"
    }
   ],
   "source": [
    "# Plot ROC Curve\n",
    "plt.figure(figsize=(6, 6))\n",
    "plt.plot(fpr_list, tpr_list, marker='o', linestyle='-', label=\"ROC Curve\")\n",
    "plt.plot([0, 1], [0, 1], linestyle='--', color='grey', label=\"Random Guessing\")\n",
    "plt.xlabel(\"False Positive Rate (FPR)\")\n",
    "plt.ylabel(\"True Positive Rate (TPR)\")\n",
    "plt.title(\"ROC Curve\")\n",
    "plt.legend()\n",
    "plt.grid()"
   ]
  },
  {
   "cell_type": "code",
   "execution_count": 6,
   "metadata": {},
   "outputs": [],
   "source": [
    "# Compute AUC Score\n",
    "auc_score = auc(fpr_list, tpr_list)\n",
    "# Show plot\n",
    "plt.show()"
   ]
  },
  {
   "cell_type": "code",
   "execution_count": 7,
   "metadata": {},
   "outputs": [],
   "source": [
    "try:\n",
    "    from prettytable import PrettyTable\n",
    "except:\n",
    "    %pip install prettytable\n",
    "    from prettytable import PrettyTable"
   ]
  },
  {
   "cell_type": "code",
   "execution_count": 8,
   "metadata": {},
   "outputs": [
    {
     "name": "stdout",
     "output_type": "stream",
     "text": [
      "+-----------+--------------------+---------------------+\n",
      "| Threshold |        TPR         |         FPR         |\n",
      "+-----------+--------------------+---------------------+\n",
      "|    0.95   | 0.5416666666666666 | 0.05128205128205128 |\n",
      "|    0.9    | 0.6388888888888888 |  0.0641025641025641 |\n",
      "|    0.85   | 0.7083333333333334 |  0.0641025641025641 |\n",
      "|    0.8    |        0.75        |  0.0641025641025641 |\n",
      "|    0.75   | 0.7638888888888888 | 0.07692307692307693 |\n",
      "|    0.7    | 0.8055555555555556 | 0.07692307692307693 |\n",
      "+-----------+--------------------+---------------------+\n"
     ]
    }
   ],
   "source": [
    "# Display computed TPR and FPR values\n",
    "roc_results = pd.DataFrame({\"Threshold\": thresholds, \"TPR\": tpr_list, \"FPR\": fpr_list})\n",
    "\n",
    "table = PrettyTable()\n",
    "table.field_names = [\"Threshold\", \"TPR\", \"FPR\"]\n",
    "\n",
    "for i in range(len(roc_results)):\n",
    "    table.add_row([roc_results[\"Threshold\"][i], roc_results[\"TPR\"][i], roc_results[\"FPR\"][i]])\n",
    "\n",
    "print(table)\n"
   ]
  },
  {
   "cell_type": "code",
   "execution_count": 9,
   "metadata": {},
   "outputs": [
    {
     "name": "stdout",
     "output_type": "stream",
     "text": [
      "   Threshold  TP  FP  TN  FN       TPR       FPR\n",
      "0       0.95  39   4  74  33  0.541667  0.051282\n",
      "1       0.90  46   5  73  26  0.638889  0.064103\n",
      "2       0.85  51   5  73  21  0.708333  0.064103\n",
      "3       0.80  54   5  73  18  0.750000  0.064103\n",
      "4       0.75  55   6  72  17  0.763889  0.076923\n",
      "5       0.70  58   6  72  14  0.805556  0.076923\n"
     ]
    }
   ],
   "source": [
    "roc_table = pd.DataFrame(results, columns=[\"Threshold\", \"TP\", \"FP\", \"TN\", \"FN\", \"TPR\", \"FPR\"])\n",
    "print(roc_table)"
   ]
  }
 ],
 "metadata": {
  "kernelspec": {
   "display_name": "umbc_projects",
   "language": "python",
   "name": "python3"
  },
  "language_info": {
   "codemirror_mode": {
    "name": "ipython",
    "version": 3
   },
   "file_extension": ".py",
   "mimetype": "text/x-python",
   "name": "python",
   "nbconvert_exporter": "python",
   "pygments_lexer": "ipython3",
   "version": "3.13.2"
  }
 },
 "nbformat": 4,
 "nbformat_minor": 2
}
