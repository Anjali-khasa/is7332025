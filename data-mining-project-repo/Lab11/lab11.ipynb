{
 "cells": [
  {
   "cell_type": "markdown",
   "id": "1a5ed354",
   "metadata": {},
   "source": [
    "# Part 2 : Practice the NLP model to classify data stories"
   ]
  },
  {
   "cell_type": "code",
   "execution_count": 13,
   "id": "e9b8b48f",
   "metadata": {},
   "outputs": [],
   "source": [
    "# Import libraries\n",
    "import pandas as pd\n",
    "import numpy as np\n",
    "from sklearn.feature_extraction.text import TfidfVectorizer\n",
    "from sklearn.linear_model import LogisticRegression\n",
    "from sklearn.naive_bayes import MultinomialNB\n",
    "from sklearn.svm import SVC\n",
    "from sklearn.model_selection import cross_val_score, StratifiedKFold\n",
    "import matplotlib.pyplot as plt\n"
   ]
  },
  {
   "cell_type": "code",
   "execution_count": 14,
   "id": "f4a18a39",
   "metadata": {},
   "outputs": [
    {
     "data": {
      "text/plain": [
       "(130, 4)"
      ]
     },
     "execution_count": 14,
     "metadata": {},
     "output_type": "execute_result"
    }
   ],
   "source": [
    "# Load the dataset\n",
    "file_path = \"data_stories_one_shot.csv\"\n",
    "df = pd.read_csv(file_path)\n",
    "df.shape\n"
   ]
  },
  {
   "cell_type": "code",
   "execution_count": 5,
   "id": "2dc8564a",
   "metadata": {},
   "outputs": [
    {
     "data": {
      "application/vnd.microsoft.datawrangler.viewer.v0+json": {
       "columns": [
        {
         "name": "index",
         "rawType": "int64",
         "type": "integer"
        },
        {
         "name": "Plot_Name",
         "rawType": "object",
         "type": "string"
        },
        {
         "name": "Stage",
         "rawType": "int64",
         "type": "integer"
        },
        {
         "name": "Quality",
         "rawType": "float64",
         "type": "float"
        },
        {
         "name": "Sentence",
         "rawType": "object",
         "type": "string"
        }
       ],
       "conversionMethod": "pd.DataFrame",
       "ref": "29c1907c-eaa2-457d-adb9-7b065d9df314",
       "rows": [
        [
         "0",
         "walk dog",
         "1",
         "1.0",
         "This is a line chart with error bars."
        ],
        [
         "1",
         "walk dog",
         "1",
         "1.0",
         "The chart title is 'Walk dog'."
        ],
        [
         "2",
         "walk dog",
         "1",
         "1.0",
         "The y-axis represents 'Mean anxiety'."
        ],
        [
         "3",
         "walk dog",
         "1",
         "1.0",
         "The x-axis indicates conditions such as 'Baseline', 'After 30 minutes', and presence or absence of 'Dog'."
        ],
        [
         "4",
         "walk dog",
         "1",
         "1.0",
         "The chart compares mean anxiety levels with and without a dog over time."
        ]
       ],
       "shape": {
        "columns": 4,
        "rows": 5
       }
      },
      "text/html": [
       "<div>\n",
       "<style scoped>\n",
       "    .dataframe tbody tr th:only-of-type {\n",
       "        vertical-align: middle;\n",
       "    }\n",
       "\n",
       "    .dataframe tbody tr th {\n",
       "        vertical-align: top;\n",
       "    }\n",
       "\n",
       "    .dataframe thead th {\n",
       "        text-align: right;\n",
       "    }\n",
       "</style>\n",
       "<table border=\"1\" class=\"dataframe\">\n",
       "  <thead>\n",
       "    <tr style=\"text-align: right;\">\n",
       "      <th></th>\n",
       "      <th>Plot_Name</th>\n",
       "      <th>Stage</th>\n",
       "      <th>Quality</th>\n",
       "      <th>Sentence</th>\n",
       "    </tr>\n",
       "  </thead>\n",
       "  <tbody>\n",
       "    <tr>\n",
       "      <th>0</th>\n",
       "      <td>walk dog</td>\n",
       "      <td>1</td>\n",
       "      <td>1.0</td>\n",
       "      <td>This is a line chart with error bars.</td>\n",
       "    </tr>\n",
       "    <tr>\n",
       "      <th>1</th>\n",
       "      <td>walk dog</td>\n",
       "      <td>1</td>\n",
       "      <td>1.0</td>\n",
       "      <td>The chart title is 'Walk dog'.</td>\n",
       "    </tr>\n",
       "    <tr>\n",
       "      <th>2</th>\n",
       "      <td>walk dog</td>\n",
       "      <td>1</td>\n",
       "      <td>1.0</td>\n",
       "      <td>The y-axis represents 'Mean anxiety'.</td>\n",
       "    </tr>\n",
       "    <tr>\n",
       "      <th>3</th>\n",
       "      <td>walk dog</td>\n",
       "      <td>1</td>\n",
       "      <td>1.0</td>\n",
       "      <td>The x-axis indicates conditions such as 'Basel...</td>\n",
       "    </tr>\n",
       "    <tr>\n",
       "      <th>4</th>\n",
       "      <td>walk dog</td>\n",
       "      <td>1</td>\n",
       "      <td>1.0</td>\n",
       "      <td>The chart compares mean anxiety levels with an...</td>\n",
       "    </tr>\n",
       "  </tbody>\n",
       "</table>\n",
       "</div>"
      ],
      "text/plain": [
       "  Plot_Name  Stage  Quality                                           Sentence\n",
       "0  walk dog      1      1.0              This is a line chart with error bars.\n",
       "1  walk dog      1      1.0                     The chart title is 'Walk dog'.\n",
       "2  walk dog      1      1.0              The y-axis represents 'Mean anxiety'.\n",
       "3  walk dog      1      1.0  The x-axis indicates conditions such as 'Basel...\n",
       "4  walk dog      1      1.0  The chart compares mean anxiety levels with an..."
      ]
     },
     "execution_count": 5,
     "metadata": {},
     "output_type": "execute_result"
    }
   ],
   "source": [
    "df.head()"
   ]
  },
  {
   "cell_type": "code",
   "execution_count": 15,
   "id": "7825a58b",
   "metadata": {},
   "outputs": [],
   "source": [
    "# Preprocessing function\n",
    "def preprocess_text(sentence):\n",
    "    basic_stopwords = {\n",
    "        'the', 'is', 'in', 'and', 'to', 'of', 'a', 'that', 'it', 'on', 'for', 'with', 'as', 'was', 'at', 'by', 'an', 'be',\n",
    "        'this', 'or', 'from', 'but', 'not', 'are', 'they', 'his', 'she', 'which', 'you', 'we', 'their', 'there', 'can',\n",
    "        'all', 'has', 'more', 'if', 'no', 'about', 'what', 'when', 'who', 'one', 'will', 'so', 'up', 'out', 'how',\n",
    "        'many', 'do', 'then', 'any', 'some', 'could', 'her', 'him', 'them', 'than', 'would', 'into'\n",
    "    }\n",
    "    # Lowercase, remove punctuation, and tokenize\n",
    "    sentence = sentence.lower()\n",
    "    sentence = re.sub(r'[^\\w\\s]', '', sentence)\n",
    "    tokens = sentence.split()\n",
    "    # Remove stopwords\n",
    "    tokens = [word for word in tokens if word not in basic_stopwords]\n",
    "    return ' '.join(tokens)\n",
    "# Apply preprocessing\n",
    "df['Processed_Sentence'] = df['Sentence'].apply(preprocess_text)\n",
    "# TF-IDF Vectorization\n",
    "tfidf_vectorizer = TfidfVectorizer()\n",
    "X = tfidf_vectorizer.fit_transform(df['Processed_Sentence'])\n",
    "\n",
    "# Target variable: 1 for \"show\" (level 1), 0 for \"tell\" (levels 2 and 3)\n",
    "y = (df['Stage'] == 1).astype(int)"
   ]
  },
  {
   "cell_type": "code",
   "execution_count": 16,
   "id": "6d3ebff8",
   "metadata": {},
   "outputs": [],
   "source": [
    "# Define models\n",
    "models = {\n",
    "    'Logistic Regression': LogisticRegression(max_iter=1000),\n",
    "    'Naive Bayes': MultinomialNB(),\n",
    "    'SVM': SVC(probability=True)\n",
    "}\n",
    "\n",
    "# Cross-validation setup (Stratified 5-fold)\n",
    "cv = StratifiedKFold(n_splits=5, shuffle=True, random_state=42)"
   ]
  },
  {
   "cell_type": "code",
   "execution_count": 17,
   "id": "b55d3994",
   "metadata": {},
   "outputs": [],
   "source": [
    "# Evaluate each model using cross-validation with AUC\n",
    "results = {}\n",
    "mean_auc_scores = []\n",
    "for model_name, model in models.items():\n",
    "    auc_scores = cross_val_score(model, X, y, cv=cv, scoring='roc_auc')\n",
    "    results[model_name] = {\n",
    "        'Mean AUC': np.mean(auc_scores),\n",
    "        'AUC Scores': auc_scores\n",
    "    }\n",
    "    mean_auc_scores.append(np.mean(auc_scores))\n"
   ]
  },
  {
   "cell_type": "code",
   "execution_count": 18,
   "id": "8d673947",
   "metadata": {},
   "outputs": [
    {
     "data": {
      "image/png": "[encoded data removed]",
      "text/plain": [
       "<Figure size 800x600 with 1 Axes>"
      ]
     },
     "metadata": {},
     "output_type": "display_data"
    }
   ],
   "source": [
    "# Visualize results\n",
    "model_names = list(results.keys())\n",
    "plt.figure(figsize=(8, 6))\n",
    "plt.bar(model_names, mean_auc_scores, color=['blue', 'orange', 'green'])\n",
    "plt.title('Mean AUC Scores for Models (Zero Shot)')\n",
    "plt.ylabel('Mean AUC')\n",
    "plt.xlabel('Model')\n",
    "plt.ylim(0.5, 1.0)\n",
    "for i, score in enumerate(mean_auc_scores):\n",
    "    plt.text(i, score + 0.01, f\"{score:.2f}\", ha='center', fontsize=12)\n",
    "plt.show()"
   ]
  },
  {
   "cell_type": "code",
   "execution_count": 19,
   "id": "349ebe58",
   "metadata": {},
   "outputs": [
    {
     "name": "stdout",
     "output_type": "stream",
     "text": [
      "Logistic Regression:\n",
      "  Mean AUC: 0.90\n",
      "  AUC Scores: [0.875      0.85625    0.875      0.9125     0.98181818]\n",
      "\n",
      "Naive Bayes:\n",
      "  Mean AUC: 0.89\n",
      "  AUC Scores: [0.89375    0.8125     0.84375    0.925      0.97575758]\n",
      "\n",
      "SVM:\n",
      "  Mean AUC: 0.88\n",
      "  AUC Scores: [0.88125    0.8        0.85625    0.9125     0.96363636]\n",
      "\n"
     ]
    }
   ],
   "source": [
    "# Display raw results\n",
    "for model_name, result in results.items():\n",
    "    print(f\"{model_name}:\")\n",
    "    print(f\"  Mean AUC: {result['Mean AUC']:.2f}\")\n",
    "    print(f\"  AUC Scores: {result['AUC Scores']}\")\n",
    "    print()"
   ]
  },
  {
   "cell_type": "code",
   "execution_count": null,
   "id": "052a37c9",
   "metadata": {},
   "outputs": [],
   "source": []
  }
 ],
 "metadata": {
  "kernelspec": {
   "display_name": "umbc_projects",
   "language": "python",
   "name": "python3"
  },
  "language_info": {
   "codemirror_mode": {
    "name": "ipython",
    "version": 3
   },
   "file_extension": ".py",
   "mimetype": "text/x-python",
   "name": "python",
   "nbconvert_exporter": "python",
   "pygments_lexer": "ipython3",
   "version": "3.13.2"
  }
 },
 "nbformat": 4,
 "nbformat_minor": 5
}
